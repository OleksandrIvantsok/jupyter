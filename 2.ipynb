{
 "cells": [
  {
   "cell_type": "markdown",
   "id": "15bc60e6-9e72-458b-8f46-e5ff2b86296f",
   "metadata": {},
   "source": [
    "# Створення Классів"
   ]
  },
  {
   "cell_type": "code",
   "execution_count": 13,
   "id": "d2e3a7fb-80bb-4ce9-865d-6f3f5ea773fc",
   "metadata": {},
   "outputs": [],
   "source": [
    "class Point:\n",
    "    def __init__(self, x, y):\n",
    "        try:\n",
    "            self.x = float(x)\n",
    "            self.y = float(y)\n",
    "        except Exception:\n",
    "            raise ValueError(\"Need numbers!\")\n",
    "\n",
    "    def __str__(self):\n",
    "        return f\"x = {self.x}, y = {self.y}\"\n",
    "\n",
    "\n",
    "class SegmentSizeError(Exception):\n",
    "    def __init__(self):\n",
    "        self.message = \"This segment is degenerate\"\n",
    "\n",
    "    def __str__(self):\n",
    "        return self.message\n",
    "\n",
    "\n",
    "class MissingParameterError(Exception):\n",
    "    def __init__(self):\n",
    "        self.message = \"Missing parameter\"\n",
    "\n",
    "    def __str__(self):\n",
    "        return self.message\n",
    "\n",
    "\n",
    "class Segment:\n",
    "    def __init__(self, start=None, end=None):\n",
    "        if not start or not end:\n",
    "            raise MissingParameterError()\n",
    "        if not isinstance(start, Point) or not isinstance(end, Point):\n",
    "            raise TypeError(\"Need Points (Start and End)\")\n",
    "        if start.x == end.x and start.y == end.y:\n",
    "            raise SegmentSizeError()\n",
    "        self.start = start\n",
    "        self.end = end\n",
    "\n",
    "    def length(self):\n",
    "        return round(((self.start.x - self.end.x)**2 + (self.start.y - self.end.y)**2)**0.5, 3)\n",
    "\n",
    "    def middle(self):\n",
    "        return Point(((self.start.x + self.end.x) / 2), ((self.start.y + self.end.y) / 2))\n",
    "\n",
    "    def __str__(self):\n",
    "        return f\"Start: {self.start}, End: {self.end}\""
   ]
  },
  {
   "cell_type": "markdown",
   "id": "0c60f7e6-e9bd-4f2e-ac2c-a91ac284d6ab",
   "metadata": {},
   "source": [
    "## Різні варіанти виконання програми"
   ]
  },
  {
   "cell_type": "code",
   "execution_count": 14,
   "id": "6dca9c39-4a5a-40fb-9daa-078ee7b57fb5",
   "metadata": {},
   "outputs": [
    {
     "name": "stdout",
     "output_type": "stream",
     "text": [
      "x = 3.0, y = 1.5\n",
      "6.708\n"
     ]
    }
   ],
   "source": [
    "segment = Segment(Point(0, 0), Point(6, 3))\n",
    "midpoint = segment.middle()\n",
    "print(midpoint)\n",
    "length = segment.length()\n",
    "print(length)"
   ]
  },
  {
   "cell_type": "code",
   "execution_count": 15,
   "id": "84760d49-46bf-4332-9baa-e96fa65a8355",
   "metadata": {},
   "outputs": [
    {
     "ename": "SegmentSizeError",
     "evalue": "This segment is degenerate",
     "output_type": "error",
     "traceback": [
      "\u001b[31m---------------------------------------------------------------------------\u001b[39m",
      "\u001b[31mSegmentSizeError\u001b[39m                          Traceback (most recent call last)",
      "\u001b[36mCell\u001b[39m\u001b[36m \u001b[39m\u001b[32mIn[15]\u001b[39m\u001b[32m, line 1\u001b[39m\n\u001b[32m----> \u001b[39m\u001b[32m1\u001b[39m segment1 = \u001b[43mSegment\u001b[49m\u001b[43m(\u001b[49m\u001b[43mPoint\u001b[49m\u001b[43m(\u001b[49m\u001b[32;43m0\u001b[39;49m\u001b[43m,\u001b[49m\u001b[43m \u001b[49m\u001b[32;43m0\u001b[39;49m\u001b[43m)\u001b[49m\u001b[43m,\u001b[49m\u001b[43m \u001b[49m\u001b[43mPoint\u001b[49m\u001b[43m(\u001b[49m\u001b[32;43m0\u001b[39;49m\u001b[43m,\u001b[49m\u001b[43m \u001b[49m\u001b[32;43m0\u001b[39;49m\u001b[43m)\u001b[49m\u001b[43m)\u001b[49m\n",
      "\u001b[36mCell\u001b[39m\u001b[36m \u001b[39m\u001b[32mIn[13]\u001b[39m\u001b[32m, line 36\u001b[39m, in \u001b[36mSegment.__init__\u001b[39m\u001b[34m(self, start, end)\u001b[39m\n\u001b[32m     34\u001b[39m     \u001b[38;5;28;01mraise\u001b[39;00m \u001b[38;5;167;01mTypeError\u001b[39;00m(\u001b[33m\"\u001b[39m\u001b[33mNeed Points (Start and End)\u001b[39m\u001b[33m\"\u001b[39m)\n\u001b[32m     35\u001b[39m \u001b[38;5;28;01mif\u001b[39;00m start.x == end.x \u001b[38;5;129;01mand\u001b[39;00m start.y == end.y:\n\u001b[32m---> \u001b[39m\u001b[32m36\u001b[39m     \u001b[38;5;28;01mraise\u001b[39;00m SegmentSizeError()\n\u001b[32m     37\u001b[39m \u001b[38;5;28mself\u001b[39m.start = start\n\u001b[32m     38\u001b[39m \u001b[38;5;28mself\u001b[39m.end = end\n",
      "\u001b[31mSegmentSizeError\u001b[39m: This segment is degenerate"
     ]
    }
   ],
   "source": [
    "segment1 = Segment(Point(0, 0), Point(0, 0))"
   ]
  },
  {
   "cell_type": "code",
   "execution_count": 16,
   "id": "4acffd4d-afb3-4286-b942-7a2d65198de6",
   "metadata": {},
   "outputs": [
    {
     "ename": "MissingParameterError",
     "evalue": "Missing parameter",
     "output_type": "error",
     "traceback": [
      "\u001b[31m---------------------------------------------------------------------------\u001b[39m",
      "\u001b[31mMissingParameterError\u001b[39m                     Traceback (most recent call last)",
      "\u001b[36mCell\u001b[39m\u001b[36m \u001b[39m\u001b[32mIn[16]\u001b[39m\u001b[32m, line 1\u001b[39m\n\u001b[32m----> \u001b[39m\u001b[32m1\u001b[39m segment2 = \u001b[43mSegment\u001b[49m\u001b[43m(\u001b[49m\u001b[43mPoint\u001b[49m\u001b[43m(\u001b[49m\u001b[32;43m0\u001b[39;49m\u001b[43m,\u001b[49m\u001b[43m \u001b[49m\u001b[32;43m0\u001b[39;49m\u001b[43m)\u001b[49m\u001b[43m)\u001b[49m\n",
      "\u001b[36mCell\u001b[39m\u001b[36m \u001b[39m\u001b[32mIn[13]\u001b[39m\u001b[32m, line 32\u001b[39m, in \u001b[36mSegment.__init__\u001b[39m\u001b[34m(self, start, end)\u001b[39m\n\u001b[32m     30\u001b[39m \u001b[38;5;28;01mdef\u001b[39;00m\u001b[38;5;250m \u001b[39m\u001b[34m__init__\u001b[39m(\u001b[38;5;28mself\u001b[39m, start=\u001b[38;5;28;01mNone\u001b[39;00m, end=\u001b[38;5;28;01mNone\u001b[39;00m):\n\u001b[32m     31\u001b[39m     \u001b[38;5;28;01mif\u001b[39;00m \u001b[38;5;129;01mnot\u001b[39;00m start \u001b[38;5;129;01mor\u001b[39;00m \u001b[38;5;129;01mnot\u001b[39;00m end:\n\u001b[32m---> \u001b[39m\u001b[32m32\u001b[39m         \u001b[38;5;28;01mraise\u001b[39;00m MissingParameterError()\n\u001b[32m     33\u001b[39m     \u001b[38;5;28;01mif\u001b[39;00m \u001b[38;5;129;01mnot\u001b[39;00m \u001b[38;5;28misinstance\u001b[39m(start, Point) \u001b[38;5;129;01mor\u001b[39;00m \u001b[38;5;129;01mnot\u001b[39;00m \u001b[38;5;28misinstance\u001b[39m(end, Point):\n\u001b[32m     34\u001b[39m         \u001b[38;5;28;01mraise\u001b[39;00m \u001b[38;5;167;01mTypeError\u001b[39;00m(\u001b[33m\"\u001b[39m\u001b[33mNeed Points (Start and End)\u001b[39m\u001b[33m\"\u001b[39m)\n",
      "\u001b[31mMissingParameterError\u001b[39m: Missing parameter"
     ]
    }
   ],
   "source": [
    "segment2 = Segment(Point(0, 0))"
   ]
  },
  {
   "cell_type": "code",
   "execution_count": null,
   "id": "eff5ce83-d4cb-4707-b91f-2b5bb0a8b1f9",
   "metadata": {},
   "outputs": [],
   "source": []
  }
 ],
 "metadata": {
  "kernelspec": {
   "display_name": "Python 3 (ipykernel)",
   "language": "python",
   "name": "python3"
  },
  "language_info": {
   "codemirror_mode": {
    "name": "ipython",
    "version": 3
   },
   "file_extension": ".py",
   "mimetype": "text/x-python",
   "name": "python",
   "nbconvert_exporter": "python",
   "pygments_lexer": "ipython3",
   "version": "3.12.4"
  }
 },
 "nbformat": 4,
 "nbformat_minor": 5
}
