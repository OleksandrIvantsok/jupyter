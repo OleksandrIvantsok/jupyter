{
 "cells": [
  {
   "cell_type": "markdown",
   "id": "de0fd434-404c-4520-99ec-cdb0a7bb8604",
   "metadata": {},
   "source": [
    "# Task 1"
   ]
  },
  {
   "cell_type": "code",
   "execution_count": 1,
   "id": "5e59621b-ed64-4ed6-b63b-036958766977",
   "metadata": {},
   "outputs": [],
   "source": [
    "from abc import ABC, abstractmethod\n",
    "import datetime"
   ]
  },
  {
   "cell_type": "code",
   "execution_count": 2,
   "id": "64f2a46b-e1a0-484b-90ab-8d6bd9090bb0",
   "metadata": {},
   "outputs": [],
   "source": [
    "class Vehicle(ABC):\n",
    "    def __init__(self, brand_name, year_of_issue, base_price, mileage):\n",
    "        try:  # set number to int if it is not int but number\n",
    "            self.brand_name = str(brand_name)\n",
    "            self.year_of_issue = int(year_of_issue)\n",
    "            self.__base_price = int(base_price)\n",
    "            self.mileage = int(mileage)\n",
    "        except Exception:\n",
    "            raise ValueError(\"Need brand_name, year_of_issue, base_price, mileage (int for numbers!)\")\n",
    "        if self.year_of_issue not in range(1900, datetime.datetime.now().year + 1):\n",
    "            raise ValueError(\"Not appropriate year of issue\")\n",
    "        if self.__base_price <=0 or mileage < 0:  # checking for negative values\n",
    "            raise ValueError(\"Not appropriate base price or mileage (negative)\")\n",
    "        if self.__base_price >=100000000000 or mileage > 999999999:  # checking for too high numbers\n",
    "            raise ValueError(\"Not appropriate base price or mileage (too high)\")\n",
    "\n",
    "    @property\n",
    "    def get_base_price(self):  # getter for private\n",
    "        return self.__base_price\n",
    "\n",
    "    @property\n",
    "    def set_base_price(self, base_price):  # setter for private\n",
    "        try:\n",
    "            self.__base_price = int(base_price)\n",
    "        except Exception:\n",
    "            raise ValueError(\"Need base_price in numbers!)\")\n",
    "\n",
    "    def __str__(self):  # to string\n",
    "        return f\"{self.brand_name}, {self.year_of_issue}, {self.get_base_price}, {self.mileage}\"\n",
    "\n",
    "    @abstractmethod\n",
    "    def is_motorcycle(self):\n",
    "        pass\n",
    "\n",
    "    @abstractmethod\n",
    "    def vehicle_type(self):\n",
    "        pass\n",
    "\n",
    "    @staticmethod\n",
    "    def purchase_price(self, base_price, mileage):\n",
    "        return max(5000, base_price - 0.1 * mileage)\n",
    "\n",
    "    @classmethod\n",
    "    def from_string(cls, data_str): # alternative from string\n",
    "        brand, year, price, mileage = data_str.split(\",\")\n",
    "        return cls(brand, int(year), int(price), int(mileage))\n",
    "\n",
    "\n",
    "class Car(Vehicle):\n",
    "    def is_motorcycle(self):\n",
    "        return False\n",
    "\n",
    "    def vehicle_type(self):\n",
    "        return f\"{self.brand_name} Car\"\n",
    "\n",
    "    def purchase_price(self):\n",
    "        return super().purchase_price(self, self.get_base_price, self.mileage)\n",
    "\n",
    "    def __add__(self, other):  # alternative +\n",
    "        x = self.mileage + other.mileage\n",
    "        y = self.get_base_price + other.get_base_price\n",
    "        return x, y\n",
    "\n",
    "\n",
    "class Motorcycle(Vehicle):\n",
    "    def is_motorcycle(self):\n",
    "        return True\n",
    "\n",
    "    def vehicle_type(self):\n",
    "        return f\"{self.brand_name} Motorcycle\"\n",
    "\n",
    "    def purchase_price(self):\n",
    "        return super().purchase_price(self, self.get_base_price, self.mileage)\n",
    "\n",
    "\n",
    "class Truck(Vehicle):\n",
    "    def is_motorcycle(self):\n",
    "        return False\n",
    "\n",
    "    def vehicle_type(self):\n",
    "        return f\"{self.brand_name} Truck\"\n",
    "\n",
    "    def purchase_price(self):\n",
    "        return super().purchase_price(self, self.get_base_price, self.mileage)\n",
    "\n",
    "\n",
    "class Bus(Vehicle):\n",
    "    def is_motorcycle(self):\n",
    "        return False\n",
    "\n",
    "    def vehicle_type(self):\n",
    "        return f\"{self.brand_name} Bus\"\n",
    "\n",
    "    def purchase_price(self):\n",
    "        return super().purchase_price(self, self.get_base_price, self.mileage)\n"
   ]
  },
  {
   "cell_type": "code",
   "execution_count": 3,
   "id": "51adc7d5-e598-422f-a7b9-cf18d003ef12",
   "metadata": {},
   "outputs": [
    {
     "name": "stdout",
     "output_type": "stream",
     "text": [
      "Vehicle type = Toyota Car\n",
      "Is motorcycle = False\n",
      "Purchase price = 985000.0\n",
      "\n",
      "Vehicle type = MAN Bus\n",
      "Is motorcycle = False\n",
      "Purchase price = 9905000.0\n",
      "\n",
      "Vehicle type = Suzuki Motorcycle\n",
      "Is motorcycle = True\n",
      "Purchase price = 796500.0\n",
      "\n",
      "Vehicle type = Scania Truck\n",
      "Is motorcycle = False\n",
      "Purchase price = 14915000.0\n",
      "\n"
     ]
    }
   ],
   "source": [
    "vehicles = (Car(\"Toyota\", 2020, 1000000, 150000),\n",
    "            Bus(\"MAN\", 2000, 10000000, 950000),\n",
    "            Motorcycle(\"Suzuki\", 2015, 800000, 35000),\n",
    "            Truck(\"Scania\", 2018, 15000000, 850000),)\n",
    "for vehicle in vehicles:\n",
    "    print(\n",
    "        f\"Vehicle type = {vehicle.vehicle_type()}\\n\"\n",
    "        f\"Is motorcycle = {vehicle.is_motorcycle()}\\n\"\n",
    "        f\"Purchase price = {vehicle.purchase_price()}\\n\")\n"
   ]
  },
  {
   "cell_type": "code",
   "execution_count": 9,
   "id": "318fb8d7-138f-4f37-9b66-b5b6388e6e3a",
   "metadata": {},
   "outputs": [],
   "source": [
    "car1 = Car(\"Toyota\", 2020, 1000000, 150000)\n",
    "car2 = Car.from_string(\"Honda,2016,180000,100000\")"
   ]
  },
  {
   "cell_type": "code",
   "execution_count": 10,
   "id": "c9e46a47-7c25-4cbd-afcb-f2ed924b8b98",
   "metadata": {},
   "outputs": [
    {
     "name": "stdout",
     "output_type": "stream",
     "text": [
      "sum mileover and price: (250000, 1180000)\n"
     ]
    }
   ],
   "source": [
    "print(f\"sum mileover and price: {car1 + car2}\")"
   ]
  },
  {
   "cell_type": "code",
   "execution_count": null,
   "id": "85ffc0e1-cb84-4ff9-89a6-9016580c5475",
   "metadata": {},
   "outputs": [],
   "source": []
  }
 ],
 "metadata": {
  "kernelspec": {
   "display_name": "Python 3 (ipykernel)",
   "language": "python",
   "name": "python3"
  },
  "language_info": {
   "codemirror_mode": {
    "name": "ipython",
    "version": 3
   },
   "file_extension": ".py",
   "mimetype": "text/x-python",
   "name": "python",
   "nbconvert_exporter": "python",
   "pygments_lexer": "ipython3",
   "version": "3.12.4"
  }
 },
 "nbformat": 4,
 "nbformat_minor": 5
}
