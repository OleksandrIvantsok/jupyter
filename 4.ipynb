{
 "cells": [
  {
   "cell_type": "code",
   "execution_count": 1,
   "id": "bbf96308-2611-4986-897a-65cf27feb245",
   "metadata": {},
   "outputs": [],
   "source": [
    "import random\n",
    "from functools import wraps"
   ]
  },
  {
   "cell_type": "code",
   "execution_count": 6,
   "id": "e9f35a53-72bd-4148-a001-1a00dbc5e039",
   "metadata": {},
   "outputs": [],
   "source": [
    "def repeat(func):\n",
    "    @wraps(func)\n",
    "    def wrapper(*args, **kwargs):\n",
    "        times = random.randint(1, 3)\n",
    "        result = None\n",
    "        for i in range(times):\n",
    "            result = func(*args, **kwargs)\n",
    "        return result\n",
    "    return wrapper\n",
    "\n",
    "\n",
    "@repeat\n",
    "def test(x):\n",
    "    print(f\"Значення: {x}\")\n",
    "\n",
    "\n",
    "@repeat\n",
    "def test1(x, y, z):\n",
    "    middle = None\n",
    "    if (y + z)/2 == x:\n",
    "        middle = x\n",
    "    elif (x + z)/2 == y:\n",
    "        middle = y\n",
    "    elif (x + y)/2 == z:\n",
    "        middle = z\n",
    "    else:\n",
    "        middle = \"None\"\n",
    "    print(f\"The middle is {middle}\")\n",
    "\n",
    "\n",
    "@repeat\n",
    "def test2():\n",
    "    print(f\"The chance of this outcome is: {(1/3)*(1/3)*(1/3)*100} %\")\n",
    "    "
   ]
  },
  {
   "cell_type": "code",
   "execution_count": 7,
   "id": "befad9bf-d5b2-46de-a98a-35943a516771",
   "metadata": {},
   "outputs": [
    {
     "name": "stdout",
     "output_type": "stream",
     "text": [
      "Значення: Znachennya\n",
      "Значення: Znachennya\n",
      "Значення: Znachennya\n",
      "The middle is 2\n",
      "The chance of this outcome is: 3.7037037037037033 %\n",
      "The chance of this outcome is: 3.7037037037037033 %\n",
      "The chance of this outcome is: 3.7037037037037033 %\n"
     ]
    }
   ],
   "source": [
    "test(\"Znachennya\")\n",
    "test1(1, 2, 3)\n",
    "test2()"
   ]
  },
  {
   "cell_type": "code",
   "execution_count": null,
   "id": "86acea30-a723-41f3-ab1c-1e2547323c2f",
   "metadata": {},
   "outputs": [],
   "source": []
  }
 ],
 "metadata": {
  "kernelspec": {
   "display_name": "Python 3 (ipykernel)",
   "language": "python",
   "name": "python3"
  },
  "language_info": {
   "codemirror_mode": {
    "name": "ipython",
    "version": 3
   },
   "file_extension": ".py",
   "mimetype": "text/x-python",
   "name": "python",
   "nbconvert_exporter": "python",
   "pygments_lexer": "ipython3",
   "version": "3.12.4"
  }
 },
 "nbformat": 4,
 "nbformat_minor": 5
}
