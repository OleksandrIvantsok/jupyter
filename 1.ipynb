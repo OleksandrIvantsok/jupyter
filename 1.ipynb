{
 "cells": [
  {
   "cell_type": "markdown",
   "id": "00e0a671-4397-444c-8a82-43d442f493e3",
   "metadata": {},
   "source": [
    "**<h1 style=\"color:blue; text-align:center\">Норвегія</h1>**"
   ]
  },
  {
   "cell_type": "markdown",
   "id": "8a5515f4-4c3b-456d-b268-b57a5f181f45",
   "metadata": {},
   "source": [
    "![Прапор](https://upload.wikimedia.org/wikipedia/commons/thumb/d/d9/Flag_of_Norway.svg/1024px-Flag_of_Norway.svg.png)"
   ]
  },
  {
   "cell_type": "markdown",
   "id": "63d2370d-cfb7-4ead-beb0-4702c9cfea47",
   "metadata": {},
   "source": [
    "## *<div style=\"color:red\">Загальний опис</div>*"
   ]
  },
  {
   "cell_type": "markdown",
   "id": "4976a9e3-4b90-42e2-88fa-dff805df3be6",
   "metadata": {},
   "source": [
    "##### <div style=\"border:2px solid black; padding:10px\"> [Норвегія](https://www.bing.com/ck/a?!&&p=0696afc8066d897dc5da10615e155737ae362e09679ef83c0cffb4cccbd20c25JmltdHM9MTc1NzYzNTIwMA&ptn=3&ver=2&hsh=4&fclid=2bb54b5d-6898-66bc-1153-582c69b067c4&psq=%d0%bd%d0%be%d1%80%d0%b2%d0%b5%d0%b3%d1%96%d1%8f+%d0%b2%d1%96%d0%ba%d1%96%d0%bf%d0%b5%d0%b4%d1%96%d1%8f&u=a1aHR0cHM6Ly91ay53aWtpcGVkaWEub3JnL3dpa2kvJUQwJTlGJUQwJUJFJUQxJTgwJUQxJTgyJUQwJUIwJUQwJUJCOiVEMCU5RCVEMCVCRSVEMSU4MCVEMCVCMiVEMCVCNSVEMCVCMyVEMSU5NiVEMSU4RiM6fjp0ZXh0PSVEMCU5RCVEMCVCRSVEMSU4MCVEMCVCMiVEMCVCNSVEMCVCMyVEMSU5NiVEMSU4RiUyMCVFMiU4MCU5NCUyMCVEMCVCNCVEMCVCNSVEMSU4MCVEMCVCNiVEMCVCMCVEMCVCMiVEMCVCMCUyMCVEMCVCMiUyMCVEMCU5RiVEMSU5NiVEMCVCMiVEMCVCRCVEMSU5NiVEMSU4NyVEMCVCRCVEMSU5NiVEMCVCOSUyMCVEMCU4NCVEMCVCMiVEMSU4MCVEMCVCRSVEMCVCRiVEMSU5NiUyQyUyMCVEMCVCMiUyMCVEMCVCNyVEMCVCMCVEMSU4NSVEMSU5NiVEMCVCNCVEMCVCRCVEMSU5NiVEMCVCOSwlRDAlOUMlRDAlQjUlRDAlQjYlRDElODMlRDElOTQlMjAlRDAlQkQlRDAlQjAlMjAlRDElODElRDElODUlRDAlQkUlRDAlQjQlRDElOTYlMjAlRDAlQjclRDElOTYlMjAlRDAlQTglRDAlQjIlRDAlQjUlRDElODYlRDElOTYlRDElOTQlRDElOEUlMkMlMjAlRDAlQTQlRDElOTYlRDAlQkQlRDAlQkIlRDElOEYlRDAlQkQlRDAlQjQlRDElOTYlRDElOTQlRDElOEUlMjAlRDElOTYlMjAlRDAlQTAlRDAlQkUlRDElODElRDElOTYlRDElOTQlRDElOEUu) — держава в Північній Європі, в західній частині Скандинавського півострова та на прилеглих дрібних островах, а також архіпелаг Шпіцберген (Свальбард) і острів Ян-Маєн в Північному Льодовитому океані. Межує зі Швецією, Фінляндією і Росією. Населення (станом на 2015) дорівнює 5,207 млн осіб.</div>\n",
    "\n",
    "##### <div style=\"border:3px double green; padding:15px\"> Політика Норвегії здійснюється в рамках парламентської, представницької демократичної конституційної монархії. Виконавча влада здійснюється Державною радою, очолюваною прем'єр-міністром Норвегії. Законодавча влада належить як уряду, так і законодавчому органу, Стортингу, який обирається в рамках багатопартійної системи. Судова влада є незалежною від виконавчої та законодавчої влади.</div>"
   ]
  },
  {
   "cell_type": "markdown",
   "id": "6b82cd2f-f3f4-41ad-9496-d43ec4f767a4",
   "metadata": {},
   "source": [
    "| Площа | Значення |\n",
    "|-------|----------|\n",
    "| Усього | 323 802 $км^{2}$ |\n",
    "| Суходіл | 304 282 $км^{2}$ |\n",
    "| Води | 19 520 $км^{2}$ |"
   ]
  },
  {
   "cell_type": "markdown",
   "id": "3f17b714-626a-4ca1-8a3b-d27a9c37809f",
   "metadata": {},
   "source": [
    "![Мапа](https://upload.wikimedia.org/wikipedia/commons/thumb/6/6d/LocationNorway.svg/1024px-LocationNorway.svg.png)"
   ]
  },
  {
   "cell_type": "code",
   "execution_count": null,
   "id": "55d6a9d6-fdc3-40fd-aa59-1565a56a30af",
   "metadata": {},
   "outputs": [],
   "source": [
    "%%HTML\n",
    "<svg width=\"440\" height=\"320\">\n",
    "  <rect width=\"440\" height=\"320\" fill=\"red\"/>\n",
    "  <rect x=\"120\" y=\"0\" width=\"40\" height=\"320\" fill=\"white\"/>\n",
    "  <rect x=\"0\" y=\"120\" width=\"440\" height=\"40\" fill=\"white\"/>\n",
    "  <rect x=\"130\" y=\"0\" width=\"20\" height=\"320\" fill=\"blue\"/>\n",
    "  <rect x=\"0\" y=\"130\" width=\"440\" height=\"20\" fill=\"blue\"/>\n",
    "</svg>\n"
   ]
  },
  {
   "cell_type": "markdown",
   "id": "6993ad1a-4971-4301-835f-076354b27fbb",
   "metadata": {},
   "source": [
    "### Пам'ятки культури та природи\n",
    "<ul> <li><a href=\"https://uk.wikipedia.org/wiki/%D0%A4%D0%BE%D1%80%D1%82%D0%B5%D1%86%D1%8F_%D0%91%D0%B5%D1%80%D0%B3%D0%B5%D0%BD%D1%85%D1%83%D1%81\" target=\"_blank\">Башта Розенкранц</a></li>\n",
    "<li><a href=\"https://uk.wikipedia.org/wiki/%D0%A1%D1%82%D1%96%D1%84%D1%82%D1%81%D0%B3%D0%BE%D1%80%D0%B4%D0%B5%D0%BD\" target=\"_blank\">Стіфтсгорден</a></li>\n",
    "<li><a href=\"https://uk.wikipedia.org/wiki/%D0%A1%D0%BE%D0%B1%D0%BE%D1%80_%D0%A1%D1%82%D0%B0%D0%B2%D0%B0%D0%BD%D0%B3%D0%B5%D1%80%D0%B0\" target=\"_blank\">Собор Ставангера</a></li>\n",
    "<li><a href=\"https://uk.wikipedia.org/wiki/%D0%92%D1%81%D0%B5%D1%81%D0%B2%D1%96%D1%82%D0%BD%D1%94_%D1%81%D1%85%D0%BE%D0%B2%D0%B8%D1%89%D0%B5_%D0%BD%D0%B0%D1%81%D1%96%D0%BD%D0%BD%D1%8F\" target=\"_blank\">Всесвітнє сховище насіння</a></li>\n",
    "<li><a href=\"https://uk.wikipedia.org/wiki/%D0%A1%D1%82%D1%96%D0%BD%D0%B0_%D1%82%D1%80%D0%BE%D0%BB%D1%96%D0%B2\" target=\"_blank\">Стіна Тролів</a></li> </ul>"
   ]
  },
  {
   "cell_type": "markdown",
   "id": "d8e3cac0-dc2e-4f83-8788-98b17571ceb4",
   "metadata": {},
   "source": [
    "### Видатні особистості Норвегії\n",
    "<ol> <li><a href=\"https://uk.wikipedia.org/wiki/%D0%95%D0%B4%D0%B2%D0%B0%D1%80%D0%B4_%D0%93%D1%80%D1%96%D0%B3\" target=\"_blank\">Едвард Ґріґ</a> — композитор</li>\n",
    "<li><a href=\"https://uk.wikipedia.org/wiki/%D0%A0%D0%BE%D0%B0%D0%BB%D1%8C%D0%B4_%D0%90%D0%BC%D1%83%D0%BD%D0%B4%D1%81%D0%B5%D0%BD\" target=\"_blank\">Руаль Амундсен</a> — полярний дослідник</li>\n",
    "<li><a href=\"https://uk.wikipedia.org/wiki/%D0%93%D0%B5%D0%BD%D1%80%D1%96%D0%BA_%D0%86%D0%B1%D1%81%D0%B5%D0%BD\" target=\"_blank\">Генрік Ібсен</a> — драматург</li>\n",
    "<li><a href=\"https://uk.wikipedia.org/wiki/%D0%9A%D0%BD%D1%83%D1%82_%D0%93%D0%B0%D0%BC%D1%81%D1%83%D0%BD\" target=\"_blank\">Кнут Гамсун</a> — письменник, лауреат Нобелівської премії</li> </ol>"
   ]
  },
  {
   "cell_type": "code",
   "execution_count": null,
   "id": "08c8b3bc-00bd-4b1e-a6dd-18a249cbabd5",
   "metadata": {},
   "outputs": [],
   "source": [
    "from math import sqrt"
   ]
  },
  {
   "cell_type": "code",
   "execution_count": null,
   "id": "1165aa9b-20f9-4c88-822e-8a4b49232aae",
   "metadata": {},
   "outputs": [],
   "source": [
    "def square_sum():\n",
    "    try:\n",
    "        a = int(input(\"Введіть ціле число\"))\n",
    "    except Exception as e:\n",
    "        print(f\"Необхідно ввести ціле число\")\n",
    "        return\n",
    "    if a < 0:\n",
    "        print(f\"Число {a} не можна представити квадратами цілих чисел\")\n",
    "        return\n",
    "    aa = round(sqrt(a))\n",
    "    b = [x**2 for x in range(aa + 1)]\n",
    "    for i in b:\n",
    "        for ii in b:\n",
    "            if i + ii == a:\n",
    "                print(f\"{int(sqrt(i))}^2 + {int(sqrt(ii))}^2 = {a}\")\n",
    "                return\n",
    "    print(f\"Число {a} не можна представити квадратами цілих чисел\")\n",
    "    return"
   ]
  },
  {
   "cell_type": "code",
   "execution_count": null,
   "id": "754fffcc-dea8-4b43-b9f8-a84adeb95460",
   "metadata": {},
   "outputs": [],
   "source": [
    "square_sum()"
   ]
  },
  {
   "cell_type": "code",
   "execution_count": null,
   "id": "7dcd61e1-3751-46d4-9db0-a5e430da4ba5",
   "metadata": {},
   "outputs": [],
   "source": []
  }
 ],
 "metadata": {
  "kernelspec": {
   "display_name": "Python 3 (ipykernel)",
   "language": "python",
   "name": "python3"
  },
  "language_info": {
   "codemirror_mode": {
    "name": "ipython",
    "version": 3
   },
   "file_extension": ".py",
   "mimetype": "text/x-python",
   "name": "python",
   "nbconvert_exporter": "python",
   "pygments_lexer": "ipython3",
   "version": "3.12.4"
  }
 },
 "nbformat": 4,
 "nbformat_minor": 5
}
